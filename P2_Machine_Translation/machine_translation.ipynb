{
 "cells": [
  {
   "cell_type": "markdown",
   "metadata": {
    "collapsed": true
   },
   "source": [
    "# Artificial Intelligence Nanodegree\n",
    "## Machine Translation Project\n",
    "In this notebook, sections that end with **'(IMPLEMENTATION)'** in the header indicate that the following blocks of code will require additional functionality which you must provide. Please be sure to read the instructions carefully!\n",
    "\n",
    "## Introduction\n",
    "In this notebook, you will build a deep neural network that functions as part of an end-to-end machine translation pipeline. Your completed pipeline will accept English text as input and return the French translation.\n",
    "\n",
    "- **Preprocess** - You'll convert text to sequence of integers.\n",
    "- **Models** Create models which accepts a sequence of integers as input and returns a probability distribution over possible translations. After learning about the basic types of neural networks that are often used for machine translation, you will engage in your own investigations, to design your own model!\n",
    "- **Prediction** Run the model on English text."
   ]
  },
  {
   "cell_type": "code",
   "execution_count": 56,
   "metadata": {},
   "outputs": [
    {
     "name": "stdout",
     "output_type": "stream",
     "text": [
      "The autoreload extension is already loaded. To reload it, use:\n",
      "  %reload_ext autoreload\n"
     ]
    }
   ],
   "source": [
    "%load_ext autoreload\n",
    "%aimport helper, tests\n",
    "%autoreload 1"
   ]
  },
  {
   "cell_type": "code",
   "execution_count": 57,
   "metadata": {},
   "outputs": [],
   "source": [
    "import collections\n",
    "\n",
    "import helper\n",
    "import numpy as np\n",
    "import project_tests as tests\n",
    "\n",
    "from keras.preprocessing.text import Tokenizer\n",
    "from keras.preprocessing.sequence import pad_sequences\n",
    "from keras.models import Model\n",
    "from keras.layers import GRU, LSTM, Input, Dense, TimeDistributed, Activation, RepeatVector, Bidirectional\n",
    "from keras.layers.embeddings import Embedding\n",
    "from keras.optimizers import Adam\n",
    "from keras.losses import sparse_categorical_crossentropy"
   ]
  },
  {
   "cell_type": "markdown",
   "metadata": {},
   "source": [
    "### Verify access to the GPU\n",
    "The following test applies only if you expect to be using a GPU, e.g., while running in a Udacity Workspace or using an AWS instance with GPU support. Run the next cell, and verify that the device_type is \"GPU\".\n",
    "- If the device is not GPU & you are running from a Udacity Workspace, then save your workspace with the icon at the top, then click \"enable\" at the bottom of the workspace.\n",
    "- If the device is not GPU & you are running from an AWS instance, then refer to the cloud computing instructions in the classroom to verify your setup steps."
   ]
  },
  {
   "cell_type": "code",
   "execution_count": 58,
   "metadata": {},
   "outputs": [
    {
     "name": "stdout",
     "output_type": "stream",
     "text": [
      "[name: \"/cpu:0\"\n",
      "device_type: \"CPU\"\n",
      "memory_limit: 268435456\n",
      "locality {\n",
      "}\n",
      "incarnation: 10390887164741471959\n",
      ", name: \"/gpu:0\"\n",
      "device_type: \"GPU\"\n",
      "memory_limit: 312213504\n",
      "locality {\n",
      "  bus_id: 1\n",
      "}\n",
      "incarnation: 3986736858219030605\n",
      "physical_device_desc: \"device: 0, name: Tesla K80, pci bus id: 0000:00:04.0\"\n",
      "]\n"
     ]
    }
   ],
   "source": [
    "from tensorflow.python.client import device_lib\n",
    "print(device_lib.list_local_devices())"
   ]
  },
  {
   "cell_type": "markdown",
   "metadata": {},
   "source": [
    "## Dataset\n",
    "We begin by investigating the dataset that will be used to train and evaluate your pipeline.  The most common datasets used for machine translation are from [WMT](http://www.statmt.org/).  However, that will take a long time to train a neural network on.  We'll be using a dataset we created for this project that contains a small vocabulary.  You'll be able to train your model in a reasonable time with this dataset.\n",
    "### Load Data\n",
    "The data is located in `data/small_vocab_en` and `data/small_vocab_fr`. The `small_vocab_en` file contains English sentences with their French translations in the `small_vocab_fr` file. Load the English and French data from these files from running the cell below."
   ]
  },
  {
   "cell_type": "code",
   "execution_count": 59,
   "metadata": {},
   "outputs": [
    {
     "name": "stdout",
     "output_type": "stream",
     "text": [
      "Dataset Loaded\n"
     ]
    }
   ],
   "source": [
    "# Load English data\n",
    "english_sentences = helper.load_data('data/small_vocab_en')\n",
    "# Load French data\n",
    "french_sentences = helper.load_data('data/small_vocab_fr')\n",
    "\n",
    "print('Dataset Loaded')"
   ]
  },
  {
   "cell_type": "markdown",
   "metadata": {},
   "source": [
    "### Files\n",
    "Each line in `small_vocab_en` contains an English sentence with the respective translation in each line of `small_vocab_fr`.  View the first two lines from each file."
   ]
  },
  {
   "cell_type": "code",
   "execution_count": 60,
   "metadata": {},
   "outputs": [
    {
     "name": "stdout",
     "output_type": "stream",
     "text": [
      "small_vocab_en Line 1:  new jersey is sometimes quiet during autumn , and it is snowy in april .\n",
      "small_vocab_fr Line 1:  new jersey est parfois calme pendant l' automne , et il est neigeux en avril .\n",
      "small_vocab_en Line 2:  the united states is usually chilly during july , and it is usually freezing in november .\n",
      "small_vocab_fr Line 2:  les états-unis est généralement froid en juillet , et il gèle habituellement en novembre .\n"
     ]
    }
   ],
   "source": [
    "for sample_i in range(2):\n",
    "    print('small_vocab_en Line {}:  {}'.format(sample_i + 1, english_sentences[sample_i]))\n",
    "    print('small_vocab_fr Line {}:  {}'.format(sample_i + 1, french_sentences[sample_i]))"
   ]
  },
  {
   "cell_type": "markdown",
   "metadata": {},
   "source": [
    "From looking at the sentences, you can see they have been preprocessed already.  The puncuations have been delimited using spaces. All the text have been converted to lowercase.  This should save you some time, but the text requires more preprocessing.\n",
    "### Vocabulary\n",
    "The complexity of the problem is determined by the complexity of the vocabulary.  A more complex vocabulary is a more complex problem.  Let's look at the complexity of the dataset we'll be working with."
   ]
  },
  {
   "cell_type": "code",
   "execution_count": 61,
   "metadata": {},
   "outputs": [
    {
     "name": "stdout",
     "output_type": "stream",
     "text": [
      "1823250 English words.\n",
      "227 unique English words.\n",
      "10 Most common words in the English dataset:\n",
      "\"is\" \",\" \".\" \"in\" \"it\" \"during\" \"the\" \"but\" \"and\" \"sometimes\"\n",
      "\n",
      "1961295 French words.\n",
      "355 unique French words.\n",
      "10 Most common words in the French dataset:\n",
      "\"est\" \".\" \",\" \"en\" \"il\" \"les\" \"mais\" \"et\" \"la\" \"parfois\"\n"
     ]
    }
   ],
   "source": [
    "english_words_counter = collections.Counter([word for sentence in english_sentences for word in sentence.split()])\n",
    "french_words_counter = collections.Counter([word for sentence in french_sentences for word in sentence.split()])\n",
    "\n",
    "print('{} English words.'.format(len([word for sentence in english_sentences for word in sentence.split()])))\n",
    "print('{} unique English words.'.format(len(english_words_counter)))\n",
    "print('10 Most common words in the English dataset:')\n",
    "print('\"' + '\" \"'.join(list(zip(*english_words_counter.most_common(10)))[0]) + '\"')\n",
    "print()\n",
    "print('{} French words.'.format(len([word for sentence in french_sentences for word in sentence.split()])))\n",
    "print('{} unique French words.'.format(len(french_words_counter)))\n",
    "print('10 Most common words in the French dataset:')\n",
    "print('\"' + '\" \"'.join(list(zip(*french_words_counter.most_common(10)))[0]) + '\"')"
   ]
  },
  {
   "cell_type": "markdown",
   "metadata": {},
   "source": [
    "For comparison, _Alice's Adventures in Wonderland_ contains 2,766 unique words of a total of 15,500 words.\n",
    "## Preprocess\n",
    "For this project, you won't use text data as input to your model. Instead, you'll convert the text into sequences of integers using the following preprocess methods:\n",
    "1. Tokenize the words into ids\n",
    "2. Add padding to make all the sequences the same length.\n",
    "\n",
    "Time to start preprocessing the data...\n",
    "### Tokenize (IMPLEMENTATION)\n",
    "For a neural network to predict on text data, it first has to be turned into data it can understand. Text data like \"dog\" is a sequence of ASCII character encodings.  Since a neural network is a series of multiplication and addition operations, the input data needs to be number(s).\n",
    "\n",
    "We can turn each character into a number or each word into a number.  These are called character and word ids, respectively.  Character ids are used for character level models that generate text predictions for each character.  A word level model uses word ids that generate text predictions for each word.  Word level models tend to learn better, since they are lower in complexity, so we'll use those.\n",
    "\n",
    "Turn each sentence into a sequence of words ids using Keras's [`Tokenizer`](https://keras.io/preprocessing/text/#tokenizer) function. Use this function to tokenize `english_sentences` and `french_sentences` in the cell below.\n",
    "\n",
    "Running the cell will run `tokenize` on sample data and show output for debugging."
   ]
  },
  {
   "cell_type": "code",
   "execution_count": 62,
   "metadata": {},
   "outputs": [
    {
     "name": "stdout",
     "output_type": "stream",
     "text": [
      "{'the': 1, 'quick': 2, 'a': 3, 'brown': 4, 'fox': 5, 'jumps': 6, 'over': 7, 'lazy': 8, 'dog': 9, 'by': 10, 'jove': 11, 'my': 12, 'study': 13, 'of': 14, 'lexicography': 15, 'won': 16, 'prize': 17, 'this': 18, 'is': 19, 'short': 20, 'sentence': 21}\n",
      "\n",
      "Sequence 1 in x\n",
      "  Input:  The quick brown fox jumps over the lazy dog .\n",
      "  Output: [1, 2, 4, 5, 6, 7, 1, 8, 9]\n",
      "Sequence 2 in x\n",
      "  Input:  By Jove , my quick study of lexicography won a prize .\n",
      "  Output: [10, 11, 12, 2, 13, 14, 15, 16, 3, 17]\n",
      "Sequence 3 in x\n",
      "  Input:  This is a short sentence .\n",
      "  Output: [18, 19, 3, 20, 21]\n"
     ]
    }
   ],
   "source": [
    "def tokenize(x):\n",
    "    \"\"\"\n",
    "    Tokenize x\n",
    "    :param x: List of sentences/strings to be tokenized\n",
    "    :return: Tuple of (tokenized x data, tokenizer used to tokenize x)\n",
    "    \"\"\"\n",
    "    text_tokenizer = Tokenizer()\n",
    "    text_tokenizer.fit_on_texts(x)\n",
    "    text_tokenized = text_tokenizer.texts_to_sequences(x)\n",
    "    \n",
    "    return text_tokenized, text_tokenizer\n",
    "tests.test_tokenize(tokenize)\n",
    "\n",
    "# Tokenize Example output\n",
    "text_sentences = [\n",
    "    'The quick brown fox jumps over the lazy dog .',\n",
    "    'By Jove , my quick study of lexicography won a prize .',\n",
    "    'This is a short sentence .']\n",
    "text_tokenized, text_tokenizer = tokenize(text_sentences)\n",
    "print(text_tokenizer.word_index)\n",
    "print()\n",
    "for sample_i, (sent, token_sent) in enumerate(zip(text_sentences, text_tokenized)):\n",
    "    print('Sequence {} in x'.format(sample_i + 1))\n",
    "    print('  Input:  {}'.format(sent))\n",
    "    print('  Output: {}'.format(token_sent))"
   ]
  },
  {
   "cell_type": "markdown",
   "metadata": {},
   "source": [
    "### Padding (IMPLEMENTATION)\n",
    "When batching the sequence of word ids together, each sequence needs to be the same length.  Since sentences are dynamic in length, we can add padding to the end of the sequences to make them the same length.\n",
    "\n",
    "Make sure all the English sequences have the same length and all the French sequences have the same length by adding padding to the **end** of each sequence using Keras's [`pad_sequences`](https://keras.io/preprocessing/sequence/#pad_sequences) function."
   ]
  },
  {
   "cell_type": "code",
   "execution_count": 63,
   "metadata": {},
   "outputs": [
    {
     "name": "stdout",
     "output_type": "stream",
     "text": [
      "Sequence 1 in x\n",
      "  Input:  [1 2 4 5 6 7 1 8 9]\n",
      "  Output: [1 2 4 5 6 7 1 8 9 0]\n",
      "Sequence 2 in x\n",
      "  Input:  [10 11 12  2 13 14 15 16  3 17]\n",
      "  Output: [10 11 12  2 13 14 15 16  3 17]\n",
      "Sequence 3 in x\n",
      "  Input:  [18 19  3 20 21]\n",
      "  Output: [18 19  3 20 21  0  0  0  0  0]\n"
     ]
    }
   ],
   "source": [
    "def pad(x, length=None):\n",
    "    \"\"\"\n",
    "    Pad x\n",
    "    :param x: List of sequences.\n",
    "    :param length: Length to pad the sequence to.  If None, use length of longest sequence in x.\n",
    "    :return: Padded numpy array of sequences\n",
    "    \"\"\"\n",
    "    if length is None:\n",
    "        length = max([len(seq) for seq in x])\n",
    "        \n",
    "    pad = pad_sequences(x, maxlen=length, padding='post')\n",
    "        \n",
    "    return pad\n",
    "tests.test_pad(pad)\n",
    "\n",
    "# Pad Tokenized output\n",
    "test_pad = pad(text_tokenized)\n",
    "for sample_i, (token_sent, pad_sent) in enumerate(zip(text_tokenized, test_pad)):\n",
    "    print('Sequence {} in x'.format(sample_i + 1))\n",
    "    print('  Input:  {}'.format(np.array(token_sent)))\n",
    "    print('  Output: {}'.format(pad_sent))"
   ]
  },
  {
   "cell_type": "markdown",
   "metadata": {},
   "source": [
    "### Preprocess Pipeline\n",
    "Your focus for this project is to build neural network architecture, so we won't ask you to create a preprocess pipeline.  Instead, we've provided you with the implementation of the `preprocess` function."
   ]
  },
  {
   "cell_type": "code",
   "execution_count": 64,
   "metadata": {},
   "outputs": [
    {
     "name": "stdout",
     "output_type": "stream",
     "text": [
      "Data Preprocessed\n",
      "Max English sentence length: 15\n",
      "Max French sentence length: 21\n",
      "English vocabulary size: 199\n",
      "French vocabulary size: 344\n"
     ]
    }
   ],
   "source": [
    "def preprocess(x, y):\n",
    "    \"\"\"\n",
    "    Preprocess x and y\n",
    "    :param x: Feature List of sentences\n",
    "    :param y: Label List of sentences\n",
    "    :return: Tuple of (Preprocessed x, Preprocessed y, x tokenizer, y tokenizer)\n",
    "    \"\"\"\n",
    "    preprocess_x, x_tk = tokenize(x)\n",
    "    preprocess_y, y_tk = tokenize(y)\n",
    "\n",
    "    preprocess_x = pad(preprocess_x)\n",
    "    preprocess_y = pad(preprocess_y)\n",
    "\n",
    "    # Keras's sparse_categorical_crossentropy function requires the labels to be in 3 dimensions\n",
    "    preprocess_y = preprocess_y.reshape(*preprocess_y.shape, 1)\n",
    "\n",
    "    return preprocess_x, preprocess_y, x_tk, y_tk\n",
    "\n",
    "preproc_english_sentences, preproc_french_sentences, english_tokenizer, french_tokenizer =\\\n",
    "    preprocess(english_sentences, french_sentences)\n",
    "    \n",
    "max_english_sequence_length = preproc_english_sentences.shape[1]\n",
    "max_french_sequence_length = preproc_french_sentences.shape[1]\n",
    "english_vocab_size = len(english_tokenizer.word_index)\n",
    "french_vocab_size = len(french_tokenizer.word_index)\n",
    "\n",
    "print('Data Preprocessed')\n",
    "print(\"Max English sentence length:\", max_english_sequence_length)\n",
    "print(\"Max French sentence length:\", max_french_sequence_length)\n",
    "print(\"English vocabulary size:\", english_vocab_size)\n",
    "print(\"French vocabulary size:\", french_vocab_size)"
   ]
  },
  {
   "cell_type": "markdown",
   "metadata": {},
   "source": [
    "## Models\n",
    "In this section, you will experiment with various neural network architectures.\n",
    "You will begin by training four relatively simple architectures.\n",
    "- Model 1 is a simple RNN\n",
    "- Model 2 is a RNN with Embedding\n",
    "- Model 3 is a Bidirectional RNN\n",
    "- Model 4 is an optional Encoder-Decoder RNN\n",
    "\n",
    "After experimenting with the four simple architectures, you will construct a deeper architecture that is designed to outperform all four models.\n",
    "### Ids Back to Text\n",
    "The neural network will be translating the input to words ids, which isn't the final form we want.  We want the French translation.  The function `logits_to_text` will bridge the gab between the logits from the neural network to the French translation.  You'll be using this function to better understand the output of the neural network."
   ]
  },
  {
   "cell_type": "code",
   "execution_count": 65,
   "metadata": {},
   "outputs": [
    {
     "name": "stdout",
     "output_type": "stream",
     "text": [
      "`logits_to_text` function loaded.\n"
     ]
    }
   ],
   "source": [
    "def logits_to_text(logits, tokenizer):\n",
    "    \"\"\"\n",
    "    Turn logits from a neural network into text using the tokenizer\n",
    "    :param logits: Logits from a neural network\n",
    "    :param tokenizer: Keras Tokenizer fit on the labels\n",
    "    :return: String that represents the text of the logits\n",
    "    \"\"\"\n",
    "    index_to_words = {id: word for word, id in tokenizer.word_index.items()}\n",
    "    index_to_words[0] = '<PAD>'\n",
    "\n",
    "    return ' '.join([index_to_words[prediction] for prediction in np.argmax(logits, 1)])\n",
    "\n",
    "print('`logits_to_text` function loaded.')"
   ]
  },
  {
   "cell_type": "markdown",
   "metadata": {},
   "source": [
    "### Model 1: RNN (IMPLEMENTATION)\n",
    "![RNN](images/rnn.png)\n",
    "A basic RNN model is a good baseline for sequence data.  In this model, you'll build a RNN that translates English to French."
   ]
  },
  {
   "cell_type": "code",
   "execution_count": 66,
   "metadata": {},
   "outputs": [
    {
     "name": "stdout",
     "output_type": "stream",
     "text": [
      "Train on 110288 samples, validate on 27573 samples\n",
      "Epoch 1/10\n",
      "110288/110288 [==============================] - 14s 124us/step - loss: 3.5189 - acc: 0.4202 - val_loss: nan - val_acc: 0.4745\n",
      "Epoch 2/10\n",
      "110288/110288 [==============================] - 7s 67us/step - loss: 2.3981 - acc: 0.4763 - val_loss: nan - val_acc: 0.4997\n",
      "Epoch 3/10\n",
      "110288/110288 [==============================] - 7s 68us/step - loss: 2.1209 - acc: 0.5260 - val_loss: nan - val_acc: 0.5503\n",
      "Epoch 4/10\n",
      "110288/110288 [==============================] - 7s 68us/step - loss: 1.8828 - acc: 0.5601 - val_loss: nan - val_acc: 0.5777\n",
      "Epoch 5/10\n",
      "110288/110288 [==============================] - 7s 67us/step - loss: 1.7448 - acc: 0.5828 - val_loss: nan - val_acc: 0.5849\n",
      "Epoch 6/10\n",
      "110288/110288 [==============================] - 7s 67us/step - loss: 1.6553 - acc: 0.5872 - val_loss: nan - val_acc: 0.5904\n",
      "Epoch 7/10\n",
      "110288/110288 [==============================] - 7s 67us/step - loss: 1.5877 - acc: 0.5920 - val_loss: nan - val_acc: 0.5928\n",
      "Epoch 8/10\n",
      "110288/110288 [==============================] - 7s 68us/step - loss: 1.5295 - acc: 0.6027 - val_loss: nan - val_acc: 0.6103\n",
      "Epoch 9/10\n",
      "110288/110288 [==============================] - 7s 67us/step - loss: 1.4768 - acc: 0.6121 - val_loss: nan - val_acc: 0.6127\n",
      "Epoch 10/10\n",
      "110288/110288 [==============================] - 7s 68us/step - loss: 1.4290 - acc: 0.6178 - val_loss: nan - val_acc: 0.6176\n",
      "new jersey est parfois chaud en l' et il est est en en <PAD> <PAD> <PAD> <PAD> <PAD> <PAD> <PAD> <PAD>\n"
     ]
    }
   ],
   "source": [
    "def simple_model(input_shape, output_sequence_length, english_vocab_size, french_vocab_size):\n",
    "    \"\"\"\n",
    "    Build and train a basic RNN on x and y\n",
    "    :param input_shape: Tuple of input shape\n",
    "    :param output_sequence_length: Length of output sequence\n",
    "    :param english_vocab_size: Number of unique English words in the dataset\n",
    "    :param french_vocab_size: Number of unique French words in the dataset\n",
    "    :return: Keras model built, but not trained\n",
    "    \"\"\"\n",
    "    # TODO: Build the layers\n",
    "    learning_rate= 1e-3\n",
    "    \n",
    "    model_input = Input(shape=input_shape[1:])\n",
    "    rnn = GRU(64, return_sequences=True)(model_input)\n",
    "    logits = TimeDistributed(Dense(french_vocab_size))(rnn)\n",
    "    \n",
    "    model = Model(model_input, Activation('softmax')(logits))\n",
    "    model.compile(loss=sparse_categorical_crossentropy,\n",
    "                  optimizer=Adam(learning_rate),\n",
    "                  metrics=['accuracy'])\n",
    "    return model\n",
    "tests.test_simple_model(simple_model)\n",
    "\n",
    "# Reshaping the input to work with a basic RNN\n",
    "tmp_x = pad(preproc_english_sentences, max_french_sequence_length)\n",
    "tmp_x = tmp_x.reshape((-1, preproc_french_sentences.shape[-2], 1))\n",
    "\n",
    "# Train the neural network\n",
    "simple_rnn_model = simple_model(\n",
    "    tmp_x.shape,\n",
    "    max_french_sequence_length,\n",
    "    english_vocab_size,\n",
    "    french_vocab_size)\n",
    "simple_rnn_model.fit(tmp_x, preproc_french_sentences, batch_size=1024, epochs=10, validation_split=0.2)\n",
    "\n",
    "# Print prediction(s)\n",
    "print(logits_to_text(simple_rnn_model.predict(tmp_x[:1])[0], french_tokenizer))"
   ]
  },
  {
   "cell_type": "markdown",
   "metadata": {},
   "source": [
    "### Model 2: Embedding (IMPLEMENTATION)\n",
    "![RNN](images/embedding.png)\n",
    "You've turned the words into ids, but there's a better representation of a word.  This is called word embeddings.  An embedding is a vector representation of the word that is close to similar words in n-dimensional space, where the n represents the size of the embedding vectors.\n",
    "\n",
    "In this model, you'll create a RNN model using embedding."
   ]
  },
  {
   "cell_type": "code",
   "execution_count": 67,
   "metadata": {},
   "outputs": [
    {
     "name": "stdout",
     "output_type": "stream",
     "text": [
      "Train on 110288 samples, validate on 27573 samples\n",
      "Epoch 1/10\n",
      "110288/110288 [==============================] - 16s 149us/step - loss: 4.0036 - acc: 0.4026 - val_loss: nan - val_acc: 0.4093\n",
      "Epoch 2/10\n",
      "110288/110288 [==============================] - 10s 89us/step - loss: 2.7135 - acc: 0.4328 - val_loss: nan - val_acc: 0.4826\n",
      "Epoch 3/10\n",
      "110288/110288 [==============================] - 10s 89us/step - loss: 2.1449 - acc: 0.5262 - val_loss: nan - val_acc: 0.5829\n",
      "Epoch 4/10\n",
      "110288/110288 [==============================] - 10s 89us/step - loss: 1.6750 - acc: 0.6127 - val_loss: nan - val_acc: 0.6478\n",
      "Epoch 5/10\n",
      "110288/110288 [==============================] - 10s 89us/step - loss: 1.3191 - acc: 0.6821 - val_loss: nan - val_acc: 0.7144\n",
      "Epoch 6/10\n",
      "110288/110288 [==============================] - 10s 89us/step - loss: 1.0965 - acc: 0.7290 - val_loss: nan - val_acc: 0.7448\n",
      "Epoch 7/10\n",
      "110288/110288 [==============================] - 10s 89us/step - loss: 0.9564 - acc: 0.7575 - val_loss: nan - val_acc: 0.7686\n",
      "Epoch 8/10\n",
      "110288/110288 [==============================] - 10s 89us/step - loss: 0.8618 - acc: 0.7756 - val_loss: nan - val_acc: 0.7819\n",
      "Epoch 9/10\n",
      "110288/110288 [==============================] - 10s 89us/step - loss: 0.7925 - acc: 0.7879 - val_loss: nan - val_acc: 0.7946\n",
      "Epoch 10/10\n",
      "110288/110288 [==============================] - 10s 89us/step - loss: 0.7385 - acc: 0.7988 - val_loss: nan - val_acc: 0.8030\n",
      "new jersey est parfois calme en l'automne et et est est est en avril <PAD> <PAD> <PAD> <PAD> <PAD> <PAD> <PAD>\n"
     ]
    }
   ],
   "source": [
    "def embed_model(input_shape, output_sequence_length, english_vocab_size, french_vocab_size):\n",
    "    \"\"\"\n",
    "    Build and train a RNN model using word embedding on x and y\n",
    "    :param input_shape: Tuple of input shape\n",
    "    :param output_sequence_length: Length of output sequence\n",
    "    :param english_vocab_size: Number of unique English words in the dataset\n",
    "    :param french_vocab_size: Number of unique French words in the dataset\n",
    "    :return: Keras model built, but not trained\n",
    "    \"\"\"\n",
    "    learning_rate = 1e-3\n",
    "    \n",
    "    # Embedding\n",
    "    model_input = Input(shape=input_shape[1:])\n",
    "    embedding = Embedding(english_vocab_size, 300, input_length=input_shape[1])(model_input)\n",
    "\n",
    "    # LSTM Layer \n",
    "    lstm = LSTM(32, return_sequences=True)(embedding)\n",
    "    \n",
    "    # Time distributed dense output layer\n",
    "    logits = TimeDistributed(Dense(french_vocab_size))(lstm)\n",
    "    \n",
    "    embed_model = Model(model_input, Activation('softmax')(logits))\n",
    "    embed_model.compile(loss=sparse_categorical_crossentropy,\n",
    "                        optimizer=Adam(learning_rate),\n",
    "                        metrics=['accuracy'])\n",
    "    \n",
    "    return embed_model\n",
    "tests.test_embed_model(embed_model)\n",
    "\n",
    "tmp_x = pad(preproc_english_sentences, max_french_sequence_length)\n",
    "tmp_x = tmp_x.reshape((-1, preproc_french_sentences.shape[-2]))\n",
    "\n",
    "embedded_rnn_model = embed_model(\n",
    "    tmp_x.shape,\n",
    "    max_french_sequence_length,\n",
    "    english_vocab_size,\n",
    "    french_vocab_size)\n",
    "embedded_rnn_model.fit(tmp_x, preproc_french_sentences, batch_size=1024, epochs=10, validation_split=0.2)\n",
    "\n",
    "print(logits_to_text(embedded_rnn_model.predict(tmp_x[:1])[0], french_tokenizer))"
   ]
  },
  {
   "cell_type": "markdown",
   "metadata": {},
   "source": [
    "### Model 3: Bidirectional RNNs (IMPLEMENTATION)\n",
    "![RNN](images/bidirectional.png)\n",
    "One restriction of a RNN is that it can't see the future input, only the past.  This is where bidirectional recurrent neural networks come in.  They are able to see the future data."
   ]
  },
  {
   "cell_type": "code",
   "execution_count": 68,
   "metadata": {},
   "outputs": [
    {
     "name": "stdout",
     "output_type": "stream",
     "text": [
      "(137861, 21, 1)\n",
      "(137861, 21, 1)\n",
      "Train on 110288 samples, validate on 27573 samples\n",
      "Epoch 1/10\n",
      "110288/110288 [==============================] - 18s 168us/step - loss: 2.2847 - acc: 0.5185 - val_loss: nan - val_acc: 0.5901\n",
      "Epoch 2/10\n",
      "110288/110288 [==============================] - 12s 108us/step - loss: 1.4740 - acc: 0.6141 - val_loss: nan - val_acc: 0.6312\n",
      "Epoch 3/10\n",
      "110288/110288 [==============================] - 12s 108us/step - loss: 1.3074 - acc: 0.6415 - val_loss: nan - val_acc: 0.6522\n",
      "Epoch 4/10\n",
      "110288/110288 [==============================] - 12s 108us/step - loss: 1.2215 - acc: 0.6572 - val_loss: nan - val_acc: 0.6638\n",
      "Epoch 5/10\n",
      "110288/110288 [==============================] - 12s 108us/step - loss: 1.1665 - acc: 0.6670 - val_loss: nan - val_acc: 0.6688\n",
      "Epoch 6/10\n",
      "110288/110288 [==============================] - 12s 108us/step - loss: 1.1272 - acc: 0.6736 - val_loss: nan - val_acc: 0.6764\n",
      "Epoch 7/10\n",
      "110288/110288 [==============================] - 12s 108us/step - loss: 1.1010 - acc: 0.6778 - val_loss: nan - val_acc: 0.6813\n",
      "Epoch 8/10\n",
      "110288/110288 [==============================] - 12s 108us/step - loss: 1.0782 - acc: 0.6822 - val_loss: nan - val_acc: 0.6843\n",
      "Epoch 9/10\n",
      "110288/110288 [==============================] - 12s 108us/step - loss: 1.0602 - acc: 0.6854 - val_loss: nan - val_acc: 0.6887\n",
      "Epoch 10/10\n",
      "110288/110288 [==============================] - 12s 107us/step - loss: 1.0444 - acc: 0.6890 - val_loss: nan - val_acc: 0.6928\n",
      "new jersey est parfois calme en mois et il est est en en <PAD> <PAD> <PAD> <PAD> <PAD> <PAD> <PAD> <PAD>\n"
     ]
    }
   ],
   "source": [
    "\n",
    "def bd_model(input_shape, output_sequence_length, english_vocab_size, french_vocab_size):\n",
    "    \"\"\"\n",
    "    Build and train a bidirectional RNN model on x and y\n",
    "    :param input_shape: Tuple of input shape\n",
    "    :param output_sequence_length: Length of output sequence\n",
    "    :param english_vocab_size: Number of unique English words in the dataset\n",
    "    :param french_vocab_size: Number of unique French words in the dataset\n",
    "    :return: Keras model built, but not trained\n",
    "    \"\"\"\n",
    "    learning_rate = 1e-2\n",
    "    num_timesteps = 15\n",
    "    \n",
    "    # Input\n",
    "    model_input = Input(shape=input_shape[1:])\n",
    "\n",
    "    # Bidirectional LSTM layer\n",
    "    bd_lstm = Bidirectional(LSTM(32, return_sequences=True), input_shape=(num_timesteps, 1))(model_input)\n",
    "    \n",
    "    # Time distributed dense output layer\n",
    "    logits = TimeDistributed(Dense(french_vocab_size))(bd_lstm)\n",
    "    \n",
    "    bd_model = Model(model_input, Activation('softmax')(logits))\n",
    "    bd_model.compile(loss=sparse_categorical_crossentropy,\n",
    "                        optimizer=Adam(learning_rate),\n",
    "                        metrics=['accuracy'])\n",
    "    \n",
    "    return bd_model\n",
    "\n",
    "tests.test_bd_model(bd_model)\n",
    "\n",
    "\n",
    "tmp_x = pad(preproc_english_sentences, max_french_sequence_length)\n",
    "tmp_x = tmp_x.reshape((-1, preproc_french_sentences.shape[-2], 1))\n",
    "print(tmp_x.shape)\n",
    "print(preproc_french_sentences.shape)\n",
    "bd_rnn_model = bd_model(\n",
    "    tmp_x.shape,\n",
    "    max_french_sequence_length,\n",
    "    english_vocab_size,\n",
    "    french_vocab_size)\n",
    "bd_rnn_model.fit(tmp_x, preproc_french_sentences, batch_size=1024, epochs=10, validation_split=0.2)\n",
    "\n",
    "print(logits_to_text(bd_rnn_model.predict(tmp_x[:1])[0], french_tokenizer))"
   ]
  },
  {
   "cell_type": "markdown",
   "metadata": {},
   "source": [
    "### Model 4: Encoder-Decoder (OPTIONAL)\n",
    "Time to look at encoder-decoder models.  This model is made up of an encoder and decoder. The encoder creates a matrix representation of the sentence.  The decoder takes this matrix as input and predicts the translation as output.\n",
    "\n",
    "Create an encoder-decoder model in the cell below."
   ]
  },
  {
   "cell_type": "code",
   "execution_count": 69,
   "metadata": {},
   "outputs": [
    {
     "name": "stdout",
     "output_type": "stream",
     "text": [
      "Train on 110288 samples, validate on 27573 samples\n",
      "Epoch 1/10\n",
      "110288/110288 [==============================] - 23s 204us/step - loss: 3.1116 - acc: 0.4324 - val_loss: nan - val_acc: 0.4737\n",
      "Epoch 2/10\n",
      "110288/110288 [==============================] - 16s 141us/step - loss: 2.3151 - acc: 0.4921 - val_loss: nan - val_acc: 0.5180\n",
      "Epoch 3/10\n",
      "110288/110288 [==============================] - 16s 141us/step - loss: 1.9505 - acc: 0.5327 - val_loss: nan - val_acc: 0.5499\n",
      "Epoch 4/10\n",
      "110288/110288 [==============================] - 15s 140us/step - loss: 1.7549 - acc: 0.5552 - val_loss: nan - val_acc: 0.5668\n",
      "Epoch 5/10\n",
      "110288/110288 [==============================] - 16s 141us/step - loss: 1.6440 - acc: 0.5746 - val_loss: nan - val_acc: 0.5857\n",
      "Epoch 6/10\n",
      "110288/110288 [==============================] - 16s 141us/step - loss: 1.5694 - acc: 0.5873 - val_loss: nan - val_acc: 0.5947\n",
      "Epoch 7/10\n",
      "110288/110288 [==============================] - 16s 141us/step - loss: 1.5071 - acc: 0.5978 - val_loss: nan - val_acc: 0.5981\n",
      "Epoch 8/10\n",
      "110288/110288 [==============================] - 16s 141us/step - loss: 1.4580 - acc: 0.6054 - val_loss: nan - val_acc: 0.6098\n",
      "Epoch 9/10\n",
      "110288/110288 [==============================] - 15s 140us/step - loss: 1.4132 - acc: 0.6124 - val_loss: nan - val_acc: 0.6181\n",
      "Epoch 10/10\n",
      "110288/110288 [==============================] - 16s 141us/step - loss: 1.3808 - acc: 0.6177 - val_loss: nan - val_acc: 0.6134\n",
      "new jersey est parfois en en mois et il est est en en <PAD> <PAD> <PAD> <PAD> <PAD> <PAD> <PAD> <PAD>\n"
     ]
    }
   ],
   "source": [
    "def encdec_model(input_shape, output_sequence_length, english_vocab_size, french_vocab_size):\n",
    "    \"\"\"\n",
    "    Build and train an encoder-decoder model on x and y\n",
    "    :param input_shape: Tuple of input shape\n",
    "    :param output_sequence_length: Length of output sequence\n",
    "    :param english_vocab_size: Number of unique English words in the dataset\n",
    "    :param french_vocab_size: Number of unique French words in the dataset\n",
    "    :return: Keras model built, but not trained\n",
    "    \"\"\"\n",
    "    learning_rate = 1e-3\n",
    "    num_timesteps = 10\n",
    "    \n",
    "    # 128 node LSTM input layer\n",
    "    model_input = Input(shape=input_shape[1:])\n",
    "    encoder = LSTM(128)(model_input)\n",
    "    \n",
    "    # Context vector to input to decoder layer\n",
    "    thought_vector = RepeatVector(output_sequence_length)(encoder)\n",
    "    \n",
    "    # Decoder LSTM\n",
    "    decoder = LSTM(128, return_sequences=True)(thought_vector)\n",
    "    \n",
    "    # Time distributed dense output layer\n",
    "    decoder_out = TimeDistributed(Dense(french_vocab_size))(decoder)\n",
    "    \n",
    "    encdec_model = Model(model_input, Activation('softmax')(decoder_out))\n",
    "    encdec_model.compile(loss=sparse_categorical_crossentropy,\n",
    "                         optimizer=Adam(learning_rate),\n",
    "                         metrics=['accuracy'])\n",
    "    \n",
    "    return encdec_model\n",
    "tests.test_encdec_model(encdec_model)\n",
    "\n",
    "\n",
    "tmp_x = pad(preproc_english_sentences, max_french_sequence_length)\n",
    "tmp_x = tmp_x.reshape((-1, preproc_french_sentences.shape[-2], 1))\n",
    "\n",
    "encdec_rnn_model = encdec_model(\n",
    "    tmp_x.shape,\n",
    "    max_french_sequence_length,\n",
    "    english_vocab_size,\n",
    "    french_vocab_size)\n",
    "encdec_rnn_model.fit(tmp_x, preproc_french_sentences, batch_size=1024, epochs=10, validation_split=0.2)\n",
    "\n",
    "print(logits_to_text(encdec_rnn_model.predict(tmp_x[:1])[0], french_tokenizer))"
   ]
  },
  {
   "cell_type": "markdown",
   "metadata": {},
   "source": [
    "### Model 5: Custom (IMPLEMENTATION)\n",
    "Use everything you learned from the previous models to create a model that incorporates embedding and a bidirectional rnn into one model."
   ]
  },
  {
   "cell_type": "code",
   "execution_count": 71,
   "metadata": {},
   "outputs": [
    {
     "name": "stdout",
     "output_type": "stream",
     "text": [
      "Final Model Loaded\n",
      "Train on 110288 samples, validate on 27573 samples\n",
      "Epoch 1/10\n",
      "110288/110288 [==============================] - 49s 447us/step - loss: 2.8783 - acc: 0.4496 - val_loss: nan - val_acc: 0.4913\n",
      "Epoch 2/10\n",
      "110288/110288 [==============================] - 42s 382us/step - loss: 1.8823 - acc: 0.5496 - val_loss: nan - val_acc: 0.5906\n",
      "Epoch 3/10\n",
      "110288/110288 [==============================] - 42s 382us/step - loss: 1.5170 - acc: 0.6048 - val_loss: nan - val_acc: 0.6256\n",
      "Epoch 4/10\n",
      "110288/110288 [==============================] - 42s 383us/step - loss: 1.3086 - acc: 0.6480 - val_loss: nan - val_acc: 0.6626\n",
      "Epoch 5/10\n",
      "110288/110288 [==============================] - 42s 383us/step - loss: 1.1409 - acc: 0.6872 - val_loss: nan - val_acc: 0.6954\n",
      "Epoch 6/10\n",
      "110288/110288 [==============================] - 42s 383us/step - loss: 1.0076 - acc: 0.7151 - val_loss: nan - val_acc: 0.7256\n",
      "Epoch 7/10\n",
      "110288/110288 [==============================] - 42s 383us/step - loss: 0.8965 - acc: 0.7421 - val_loss: nan - val_acc: 0.7574\n",
      "Epoch 8/10\n",
      "110288/110288 [==============================] - 42s 383us/step - loss: 0.7817 - acc: 0.7738 - val_loss: nan - val_acc: 0.7893\n",
      "Epoch 9/10\n",
      "110288/110288 [==============================] - 42s 383us/step - loss: 0.6804 - acc: 0.8022 - val_loss: nan - val_acc: 0.8114\n",
      "Epoch 10/10\n",
      "110288/110288 [==============================] - 42s 383us/step - loss: 0.5903 - acc: 0.8286 - val_loss: nan - val_acc: 0.8408\n",
      "new jersey est parfois merveilleux au cours de l' est il il en <PAD> <PAD> <PAD> <PAD> <PAD> <PAD> <PAD> <PAD>\n"
     ]
    }
   ],
   "source": [
    "def model_final(input_shape, output_sequence_length, english_vocab_size, french_vocab_size):\n",
    "    \"\"\"\n",
    "    Build and train a model that incorporates embedding, encoder-decoder, and bidirectional RNN on x and y\n",
    "    :param input_shape: Tuple of input shape\n",
    "    :param output_sequence_length: Length of output sequence\n",
    "    :param english_vocab_size: Number of unique English words in the dataset\n",
    "    :param french_vocab_size: Number of unique French words in the dataset\n",
    "    :return: Keras model built, but not trained\n",
    "    \"\"\"\n",
    "    learning_rate = 1e-3\n",
    "\n",
    "    # Embedding layer\n",
    "    model_input = Input(shape=input_shape[1:])\n",
    "    embedding = Embedding(english_vocab_size, 256, input_length=input_shape[1])(model_input)\n",
    "\n",
    "    # Bidirectional LSTM for encoding\n",
    "    bd_lstm = Bidirectional(LSTM(256))(embedding)\n",
    "\n",
    "    # Context vector for input to decoder layer\n",
    "    thought_vector = RepeatVector(output_sequence_length)(bd_lstm)\n",
    "    \n",
    "    # Decoder layer\n",
    "    decoder_lstm = LSTM(256, return_sequences=True)(thought_vector)\n",
    "    \n",
    "    # Time distributed dense output layer\n",
    "    decoded = TimeDistributed(Dense(french_vocab_size))(decoder_lstm)\n",
    "\n",
    "    model_final = Model(model_input, Activation('softmax')(decoded))\n",
    "    model_final.compile(loss=sparse_categorical_crossentropy,\n",
    "                         optimizer=Adam(learning_rate),\n",
    "                         metrics=['accuracy'])\n",
    "    \n",
    "    return model_final\n",
    "\n",
    "tests.test_model_final(model_final)\n",
    "print('Final Model Loaded')\n",
    "\n",
    "tmp_x = pad(preproc_english_sentences, max_french_sequence_length)\n",
    "\n",
    "final_rnn_model = model_final(\n",
    "    tmp_x.shape,\n",
    "    max_french_sequence_length,\n",
    "    english_vocab_size,\n",
    "    french_vocab_size)\n",
    "final_rnn_model.fit(tmp_x, preproc_french_sentences, batch_size=1024, epochs=10, validation_split=0.2)\n",
    "\n",
    "print(logits_to_text(final_rnn_model.predict(tmp_x[:1])[0], french_tokenizer))"
   ]
  },
  {
   "cell_type": "markdown",
   "metadata": {},
   "source": [
    "## Prediction (IMPLEMENTATION)"
   ]
  },
  {
   "cell_type": "code",
   "execution_count": 80,
   "metadata": {},
   "outputs": [
    {
     "name": "stdout",
     "output_type": "stream",
     "text": [
      "Train on 110288 samples, validate on 27573 samples\n",
      "Epoch 1/20\n",
      "110288/110288 [==============================] - 45s 405us/step - loss: 2.9035 - acc: 0.4480 - val_loss: nan - val_acc: 0.5097\n",
      "Epoch 2/20\n",
      "110288/110288 [==============================] - 36s 325us/step - loss: 1.8816 - acc: 0.5457 - val_loss: nan - val_acc: 0.5768\n",
      "Epoch 3/20\n",
      "110288/110288 [==============================] - 36s 325us/step - loss: 1.5184 - acc: 0.6028 - val_loss: nan - val_acc: 0.6308\n",
      "Epoch 4/20\n",
      "110288/110288 [==============================] - 36s 325us/step - loss: 1.2829 - acc: 0.6595 - val_loss: nan - val_acc: 0.6840\n",
      "Epoch 5/20\n",
      "110288/110288 [==============================] - 36s 325us/step - loss: 1.1030 - acc: 0.6974 - val_loss: nan - val_acc: 0.7168\n",
      "Epoch 6/20\n",
      "110288/110288 [==============================] - 36s 325us/step - loss: 0.9577 - acc: 0.7325 - val_loss: nan - val_acc: 0.7390\n",
      "Epoch 7/20\n",
      "110288/110288 [==============================] - 36s 325us/step - loss: 0.8220 - acc: 0.7670 - val_loss: nan - val_acc: 0.7829\n",
      "Epoch 8/20\n",
      "110288/110288 [==============================] - 36s 326us/step - loss: 0.7111 - acc: 0.7968 - val_loss: nan - val_acc: 0.8124\n",
      "Epoch 9/20\n",
      "110288/110288 [==============================] - 36s 326us/step - loss: 0.6111 - acc: 0.8253 - val_loss: nan - val_acc: 0.8398\n",
      "Epoch 10/20\n",
      "110288/110288 [==============================] - 36s 326us/step - loss: 0.5183 - acc: 0.8546 - val_loss: nan - val_acc: 0.8671\n",
      "Epoch 11/20\n",
      "110288/110288 [==============================] - 36s 326us/step - loss: 0.4389 - acc: 0.8796 - val_loss: nan - val_acc: 0.8906\n",
      "Epoch 12/20\n",
      "110288/110288 [==============================] - 36s 326us/step - loss: 0.3630 - acc: 0.9050 - val_loss: nan - val_acc: 0.9103\n",
      "Epoch 13/20\n",
      "110288/110288 [==============================] - 36s 326us/step - loss: 0.3051 - acc: 0.9226 - val_loss: nan - val_acc: 0.9224\n",
      "Epoch 14/20\n",
      "110288/110288 [==============================] - 36s 325us/step - loss: 0.2569 - acc: 0.9361 - val_loss: nan - val_acc: 0.9370\n",
      "Epoch 15/20\n",
      "110288/110288 [==============================] - 36s 325us/step - loss: 0.2245 - acc: 0.9437 - val_loss: nan - val_acc: 0.9457\n",
      "Epoch 16/20\n",
      "110288/110288 [==============================] - 36s 325us/step - loss: 0.1912 - acc: 0.9525 - val_loss: nan - val_acc: 0.9488\n",
      "Epoch 17/20\n",
      "110288/110288 [==============================] - 36s 326us/step - loss: 0.1724 - acc: 0.9563 - val_loss: nan - val_acc: 0.9535\n",
      "Epoch 18/20\n",
      "110288/110288 [==============================] - 36s 326us/step - loss: 0.1534 - acc: 0.9609 - val_loss: nan - val_acc: 0.9568\n",
      "Epoch 19/20\n",
      "110288/110288 [==============================] - 36s 325us/step - loss: 0.1434 - acc: 0.9626 - val_loss: nan - val_acc: 0.9596\n",
      "Epoch 20/20\n",
      "110288/110288 [==============================] - 36s 326us/step - loss: 0.1290 - acc: 0.9663 - val_loss: nan - val_acc: 0.9613\n",
      "Sample 1:\n",
      "il a vu un vieux camion jaune <PAD> <PAD> <PAD> <PAD> <PAD> <PAD> <PAD> <PAD> <PAD> <PAD> <PAD> <PAD> <PAD> <PAD>\n",
      "Il a vu un vieux camion jaune\n",
      "Sample 2:\n",
      "new jersey est parfois calme pendant l' automne et il est neigeux en avril <PAD> <PAD> <PAD> <PAD> <PAD> <PAD> <PAD>\n",
      "new jersey est parfois calme pendant l' automne et il est neigeux en avril <PAD> <PAD> <PAD> <PAD> <PAD> <PAD> <PAD>\n"
     ]
    }
   ],
   "source": [
    "def final_predictions(x, y, x_tk, y_tk):\n",
    "    \"\"\"\n",
    "    Gets predictions using the final model\n",
    "    :param x: Preprocessed English data\n",
    "    :param y: Preprocessed French data\n",
    "    :param x_tk: English tokenizer\n",
    "    :param y_tk: French tokenizer\n",
    "    \"\"\"\n",
    "    # TODO: Train neural network using model_final   \n",
    "    model_input = pad(x)\n",
    "\n",
    "    model = model_final(\n",
    "        model_input.shape,\n",
    "        max_french_sequence_length,\n",
    "        english_vocab_size,\n",
    "        french_vocab_size)\n",
    "    model.fit(model_input, y, batch_size=1024, epochs=20, validation_split=0.2)\n",
    "\n",
    "    \n",
    "    ## DON'T EDIT ANYTHING BELOW THIS LINE\n",
    "    y_id_to_word = {value: key for key, value in y_tk.word_index.items()}\n",
    "    y_id_to_word[0] = '<PAD>'\n",
    "\n",
    "    sentence = 'he saw a old yellow truck'\n",
    "    sentence = [x_tk.word_index[word] for word in sentence.split()]\n",
    "    sentence = pad_sequences([sentence], maxlen=x.shape[-1], padding='post')\n",
    "    sentences = np.array([sentence[0], x[0]])\n",
    "    predictions = model.predict(sentences, len(sentences))\n",
    "\n",
    "    print('Sample 1:')\n",
    "    print(' '.join([y_id_to_word[np.argmax(x)] for x in predictions[0]]))\n",
    "    print('Il a vu un vieux camion jaune')\n",
    "    print('Sample 2:')\n",
    "    print(' '.join([y_id_to_word[np.argmax(x)] for x in predictions[1]]))\n",
    "    print(' '.join([y_id_to_word[np.max(x)] for x in y[0]]))\n",
    "\n",
    "\n",
    "final_predictions(preproc_english_sentences, preproc_french_sentences, english_tokenizer, french_tokenizer)"
   ]
  },
  {
   "cell_type": "markdown",
   "metadata": {},
   "source": [
    "## Submission\n",
    "When you're ready to submit, complete the following steps:\n",
    "1. Review the [rubric](https://review.udacity.com/#!/rubrics/1004/view) to ensure your submission meets all requirements to pass\n",
    "2. Generate an HTML version of this notebook\n",
    "\n",
    "  - Run the next cell to attempt automatic generation (this is the recommended method in Workspaces)\n",
    "  - Navigate to **FILE -> Download as -> HTML (.html)**\n",
    "  - Manually generate a copy using `nbconvert` from your shell terminal\n",
    "```\n",
    "$ pip install nbconvert\n",
    "$ python -m nbconvert machine_translation.ipynb\n",
    "```\n",
    "  \n",
    "3. Submit the project\n",
    "\n",
    "  - If you are in a Workspace, simply click the \"Submit Project\" button (bottom towards the right)\n",
    "  \n",
    "  - Otherwise, add the following files into a zip archive and submit them \n",
    "  - `helper.py`\n",
    "  - `machine_translation.ipynb`\n",
    "  - `machine_translation.html`\n",
    "    - You can export the notebook by navigating to **File -> Download as -> HTML (.html)**."
   ]
  },
  {
   "cell_type": "markdown",
   "metadata": {},
   "source": [
    "### Generate the html\n",
    "\n",
    "**Save your notebook before running the next cell to generate the HTML output.** Then submit your project."
   ]
  },
  {
   "cell_type": "code",
   "execution_count": 81,
   "metadata": {},
   "outputs": [
    {
     "data": {
      "text/plain": [
       "['[NbConvertApp] Converting notebook machine_translation.ipynb to html',\n",
       " '[NbConvertApp] Writing 346225 bytes to machine_translation.html']"
      ]
     },
     "execution_count": 81,
     "metadata": {},
     "output_type": "execute_result"
    }
   ],
   "source": [
    "# Save before you run this cell!\n",
    "!!jupyter nbconvert *.ipynb"
   ]
  },
  {
   "cell_type": "markdown",
   "metadata": {},
   "source": [
    "## Optional Enhancements\n",
    "\n",
    "This project focuses on learning various network architectures for machine translation, but we don't evaluate the models according to best practices by splitting the data into separate test & training sets -- so the model accuracy is overstated. Use the [`sklearn.model_selection.train_test_split()`](http://scikit-learn.org/stable/modules/generated/sklearn.model_selection.train_test_split.html) function to create separate training & test datasets, then retrain each of the models using only the training set and evaluate the prediction accuracy using the hold out test set. Does the \"best\" model change?"
   ]
  }
 ],
 "metadata": {
  "kernelspec": {
   "display_name": "Python 3",
   "language": "python",
   "name": "python3"
  },
  "language_info": {
   "codemirror_mode": {
    "name": "ipython",
    "version": 3
   },
   "file_extension": ".py",
   "mimetype": "text/x-python",
   "name": "python",
   "nbconvert_exporter": "python",
   "pygments_lexer": "ipython3",
   "version": "3.6.3"
  }
 },
 "nbformat": 4,
 "nbformat_minor": 1
}
